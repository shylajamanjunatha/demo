{
    "cells": [
        {
            "metadata": {
                "collapsed": true
            },
            "cell_type": "code",
            "source": "# Import required libraries\nimport pandas as pd\nimport dash\nimport dash_html_components as html\nimport dash_core_components as dcc\nfrom dash.dependencies import Input, Output\nimport plotly.express as px\n\n# Read the airline data into pandas dataframe\nspacex_df = pd.read_csv(\"spacex_launch_dash.csv\")\n\nmax_payload = spacex_df['Payload Mass (kg)'].max()\nmin_payload = spacex_df['Payload Mass (kg)'].min()\nCount_LS = spacex_df.groupby('Launch Site')['class'].sum()\nprint(Count_LS)\n# Create a dash application\napp = dash.Dash(__name__)\n\n# Create an app layout\napp.layout = html.Div(children=[html.H1('SpaceX Launch Records Dashboard',\n                                        style={'textAlign': 'center', 'color': '#503D36',\n                                               'font-size': 40}),\n                                # TASK 1: Add a dropdown list to enable Launch Site selection\n                                # The default select value is for ALL sites\n                                dcc.Dropdown(id='site_dropdown',\n                                             options=[\n                                                 {'label': 'All Sites', 'value': 'ALL'},\n                                                 {'label': 'CCAFS LC-40', 'value': 'CCAFS LC-40'},\n                                                 {'label': 'VAFB SLC-4E', 'value': 'VAFB SLC-4E'},\n                                                 {'label': 'KSC LC-39A', 'value': 'KSC LC-39A'},\n                                                 {'label': 'CCAFS SLC-40', 'value': 'CCAFS SLC-40'}\n\n                                             ],\n                                             value='ALL',\n                                             placeholder=\"Select a Launch Site\",\n                                             searchable=True),\n\n\n                                html.Br(),\n\n                                # TASK 2: Add a pie chart to show the total successful launches count for all sites\n\n        # return the outcomes piechart for a selected site\n                                # If a specific launch site was selected, show the Success vs. Failed counts for the site\n                                html.Div(dcc.Graph(id='successpiechart')),\n                                html.Br(),\n\n                                html.P(\"Payload range (Kg):\"),\n                                # TASK 3: Add a slider to select payload range\n                                #dcc.RangeSlider(id='payload-slider',...)\n                                dcc.RangeSlider(id='payload_slider',\n                                                min=0, max=10000, step=1000,\n                                                marks={0: '0', 2500:'2500',5000:'5000',7500:'7500',10000:'10000'},\n                                                value=[2500, 8000]),\n\n                                # TASK 4: Add a scatter chart to show the correlation between payload and launch success\n                                html.Div(dcc.Graph(id='successpayloadscatterchart')),\n                                ]\n                      )\n# TASK 2:\n# Add a callback function for `site-dropdown` as input, `success-pie-chart` as output\n@app.callback(Output(component_id='successpiechart', component_property='figure'),\n             [Input(component_id='site_dropdown', component_property='value')]\n)\n\ndef get_pie_chart(site_dropdown):\n   filtered_df = spacex_df\n   filtered_df1 = spacex_df[spacex_df['Launch Site']==site_dropdown]\n   if site_dropdown == 'ALL':\n        fig = px.pie(filtered_df, values='class', names='Launch Site', title='Total Success Launches by Site')\n        return fig\n   else:\n      fig = px.pie(filtered_df1, names='class', title='Total Success Launches by '+site_dropdown)\n      return fig\n# TASK 4:\n# Add a callback function for `site-dropdown` and `payload-slider` as inputs, `success-payload-scatter-chart` as output\n@app.callback(Output(component_id='successpayloadscatterchart', component_property='figure'),\n              [Input(component_id='site_dropdown', component_property='value'),\n               Input(component_id=\"payload_slider\", component_property=\"value\")]\n)\ndef get_scatter_chart(site_dropdown,payload_slider):\n   filtered_df = spacex_df\n   filtered_df_pl = spacex_df[(spacex_df['Payload Mass (kg)']>=payload_slider[0])&(spacex_df['Payload Mass (kg)']<=payload_slider[1])]\n   filtered_df1 = filtered_df_pl[filtered_df_pl['Launch Site']==site_dropdown]\n   if site_dropdown == 'ALL':\n        fig = px.scatter(filtered_df_pl, x=\"Payload Mass (kg)\", y=\"class\", color='Booster Version Category',\n                         title='Correlation between Payload and success for all Sites')\n        return fig\n   else:\n       fig = px.scatter(filtered_df1, x=\"Payload Mass (kg)\", y=\"class\", color='Booster Version Category',\n                        title='Correlation between Payload and success for '+site_dropdown)\n       return fig\n# Run the app\nif __name__ == '__main__':\n    app.run_server()",
            "execution_count": null,
            "outputs": []
        }
    ],
    "metadata": {
        "kernelspec": {
            "name": "python3",
            "display_name": "Python 3.7",
            "language": "python"
        },
        "language_info": {
            "name": "python",
            "version": "3.7.11",
            "mimetype": "text/x-python",
            "codemirror_mode": {
                "name": "ipython",
                "version": 3
            },
            "pygments_lexer": "ipython3",
            "nbconvert_exporter": "python",
            "file_extension": ".py"
        }
    },
    "nbformat": 4,
    "nbformat_minor": 1
}